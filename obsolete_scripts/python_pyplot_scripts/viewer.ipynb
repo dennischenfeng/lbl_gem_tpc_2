{
 "metadata": {
  "name": "",
  "signature": "sha256:2c95bccdf434e3453d01a6ea82222dc03f39db260a11d3c7fd3cbc7705842743"
 },
 "nbformat": 3,
 "nbformat_minor": 0,
 "worksheets": [
  {
   "cells": [
    {
     "cell_type": "heading",
     "level": 1,
     "metadata": {},
     "source": [
      "Startup"
     ]
    },
    {
     "cell_type": "code",
     "collapsed": false,
     "input": [
      "import matplotlib.pyplot as plt\n",
      "import numpy as np\n",
      "from mpl_toolkits.mplot3d import Axes3D\n",
      "\n",
      "# Helper function\n",
      "def get_entryIndex_with_SMEventNum(data, SM_event_num):\n",
      "    ''' Returns the entry_index of the first entry that has the specified h5_event_num. Returns -1 if not found '''\n",
      "    entries_found = np.where(data[:, 5] == SM_event_num) # data[:, 5] is the SM_event_num of all entries\n",
      "    \n",
      "    if (len(entries_found) == 1):\n",
      "        if (len(entries_found[0] != 0)):\n",
      "            return entries_found[0][0] # first entry num that has SM_event_num\n",
      "        else:\n",
      "            return -1 # not found\n",
      "    else:\n",
      "        print(\"Error: len(entries_found) should be 1. Look inside function get_entryIndex_with_h5EventNum().\")\n",
      "        "
     ],
     "language": "python",
     "metadata": {},
     "outputs": [],
     "prompt_number": 1
    },
    {
     "cell_type": "heading",
     "level": 1,
     "metadata": {},
     "source": [
      "View SM Events in 3D"
     ]
    },
    {
     "cell_type": "code",
     "collapsed": false,
     "input": [
      "SM_event_num = 60\n",
      "\n",
      "%matplotlib qt\n",
      "with open('/home/pixel/pybar/tags/2.0.2_new/pyBAR-master/pybar/module_202_new/46_module_202_new_stop_mode_ext_trigger_scan_interpreted.txt', 'r') as f:\n",
      "    #start = SM_event_num * 16 # start index\n",
      "    #end = start + 16 # end index (plotted points does not include the point at this index)\n",
      "    \n",
      "    #import pdb; pdb.set_trace() @@@\n",
      "    \n",
      "    data = np.loadtxt(f, delimiter=',')\n",
      "    \n",
      "    start = get_entryIndex_with_SMEventNum(data, SM_event_num)\n",
      "    end = get_entryIndex_with_SMEventNum(data, SM_event_num + 1) # end index (plotted points does not include the point at this index)\n",
      "    \n",
      "    # Initialize figure and axes\n",
      "    fig = plt.figure() # current fig\n",
      "    ax = fig.add_subplot(111, projection='3d') # current axes\n",
      "    \n",
      "    ax.set_title(\"3D Occupancy of SM Event\")\n",
      "    ax.set_xlabel('x (mm)')\n",
      "    ax.set_ylabel('y (mm)')\n",
      "    ax.set_zlabel('z (mm)')\n",
      "    #ax.set_xlim3d(0, 10)\n",
      "    #ax.set_ylim3d(0, 10)\n",
      "    #ax.set_zlim3d(0, 10)\n",
      "    \n",
      "    # Plot data\n",
      "    ax.scatter(data[start:end, 6], data[start:end, 7], data[start:end, 8])\n",
      "    fig.show()\n",
      "    "
     ],
     "language": "python",
     "metadata": {},
     "outputs": [],
     "prompt_number": 2
    },
    {
     "cell_type": "code",
     "collapsed": false,
     "input": [
      "print \"hi\""
     ],
     "language": "python",
     "metadata": {},
     "outputs": []
    },
    {
     "cell_type": "code",
     "collapsed": false,
     "input": [],
     "language": "python",
     "metadata": {},
     "outputs": []
    }
   ],
   "metadata": {}
  }
 ]
}