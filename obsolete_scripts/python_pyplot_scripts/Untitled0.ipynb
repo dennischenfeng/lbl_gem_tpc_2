{
 "metadata": {
  "name": "",
  "signature": "sha256:1ca4cb1fe4a0d625b2a518c7b8b995abe368bd9d285c3c2afef96c95d7f20a9f"
 },
 "nbformat": 3,
 "nbformat_minor": 0,
 "worksheets": []
}